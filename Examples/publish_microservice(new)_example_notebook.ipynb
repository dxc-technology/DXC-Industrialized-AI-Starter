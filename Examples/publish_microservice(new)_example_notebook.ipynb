{
  "nbformat": 4,
  "nbformat_minor": 0,
  "metadata": {
    "colab": {
      "name": "publish microservice(new) example notebook.ipynb",
      "provenance": [],
      "collapsed_sections": []
    },
    "kernelspec": {
      "name": "python3",
      "display_name": "Python 3"
    },
    "language_info": {
      "name": "python"
    }
  },
  "cells": [
    {
      "cell_type": "markdown",
      "source": [
        "# Install Library"
      ],
      "metadata": {
        "id": "WmCOEEInVTa6"
      }
    },
    {
      "cell_type": "code",
      "execution_count": null,
      "metadata": {
        "id": "zKPuK3yONnrm"
      },
      "outputs": [],
      "source": [
        "%%capture\n",
        "# ! pip install DXC-Industrialized-AI-Starter\n",
        "! pip install git+https://github.com/madhubandru/DXC-Industrialized-AI-Starter.git\n",
        "import os\n",
        "os.kill(os.getpid(), 9)"
      ]
    },
    {
      "cell_type": "code",
      "source": [
        "%%capture\n",
        "from dxc import ai"
      ],
      "metadata": {
        "id": "ogMVzlM9Nwzq"
      },
      "execution_count": null,
      "outputs": []
    },
    {
      "cell_type": "markdown",
      "source": [
        "# Load data and run model"
      ],
      "metadata": {
        "id": "N0EEWup6Vf5d"
      }
    },
    {
      "cell_type": "code",
      "source": [
        "#Loading sample \"iris\" dataset\n",
        "df = ai.load_data('iris')\n",
        "df.head()"
      ],
      "metadata": {
        "colab": {
          "base_uri": "https://localhost:8080/",
          "height": 206
        },
        "id": "wvVS3BL-NxPJ",
        "outputId": "0afb98e3-5fad-401d-add8-09c3ed499dc6"
      },
      "execution_count": null,
      "outputs": [
        {
          "output_type": "execute_result",
          "data": {
            "text/html": [
              "\n",
              "  <div id=\"df-f14467a8-ece6-47a9-af6a-45db20c71ca0\">\n",
              "    <div class=\"colab-df-container\">\n",
              "      <div>\n",
              "<style scoped>\n",
              "    .dataframe tbody tr th:only-of-type {\n",
              "        vertical-align: middle;\n",
              "    }\n",
              "\n",
              "    .dataframe tbody tr th {\n",
              "        vertical-align: top;\n",
              "    }\n",
              "\n",
              "    .dataframe thead th {\n",
              "        text-align: right;\n",
              "    }\n",
              "</style>\n",
              "<table border=\"1\" class=\"dataframe\">\n",
              "  <thead>\n",
              "    <tr style=\"text-align: right;\">\n",
              "      <th></th>\n",
              "      <th>sepal length</th>\n",
              "      <th>sepal width</th>\n",
              "      <th>petal length</th>\n",
              "      <th>petal width</th>\n",
              "      <th>class</th>\n",
              "    </tr>\n",
              "  </thead>\n",
              "  <tbody>\n",
              "    <tr>\n",
              "      <th>0</th>\n",
              "      <td>5.1</td>\n",
              "      <td>3.5</td>\n",
              "      <td>1.4</td>\n",
              "      <td>0.2</td>\n",
              "      <td>Iris-setosa</td>\n",
              "    </tr>\n",
              "    <tr>\n",
              "      <th>1</th>\n",
              "      <td>4.9</td>\n",
              "      <td>3.0</td>\n",
              "      <td>1.4</td>\n",
              "      <td>0.2</td>\n",
              "      <td>Iris-setosa</td>\n",
              "    </tr>\n",
              "    <tr>\n",
              "      <th>2</th>\n",
              "      <td>4.7</td>\n",
              "      <td>3.2</td>\n",
              "      <td>1.3</td>\n",
              "      <td>0.2</td>\n",
              "      <td>Iris-setosa</td>\n",
              "    </tr>\n",
              "    <tr>\n",
              "      <th>3</th>\n",
              "      <td>4.6</td>\n",
              "      <td>3.1</td>\n",
              "      <td>1.5</td>\n",
              "      <td>0.2</td>\n",
              "      <td>Iris-setosa</td>\n",
              "    </tr>\n",
              "    <tr>\n",
              "      <th>4</th>\n",
              "      <td>5.0</td>\n",
              "      <td>3.6</td>\n",
              "      <td>1.4</td>\n",
              "      <td>0.2</td>\n",
              "      <td>Iris-setosa</td>\n",
              "    </tr>\n",
              "  </tbody>\n",
              "</table>\n",
              "</div>\n",
              "      <button class=\"colab-df-convert\" onclick=\"convertToInteractive('df-f14467a8-ece6-47a9-af6a-45db20c71ca0')\"\n",
              "              title=\"Convert this dataframe to an interactive table.\"\n",
              "              style=\"display:none;\">\n",
              "        \n",
              "  <svg xmlns=\"http://www.w3.org/2000/svg\" height=\"24px\"viewBox=\"0 0 24 24\"\n",
              "       width=\"24px\">\n",
              "    <path d=\"M0 0h24v24H0V0z\" fill=\"none\"/>\n",
              "    <path d=\"M18.56 5.44l.94 2.06.94-2.06 2.06-.94-2.06-.94-.94-2.06-.94 2.06-2.06.94zm-11 1L8.5 8.5l.94-2.06 2.06-.94-2.06-.94L8.5 2.5l-.94 2.06-2.06.94zm10 10l.94 2.06.94-2.06 2.06-.94-2.06-.94-.94-2.06-.94 2.06-2.06.94z\"/><path d=\"M17.41 7.96l-1.37-1.37c-.4-.4-.92-.59-1.43-.59-.52 0-1.04.2-1.43.59L10.3 9.45l-7.72 7.72c-.78.78-.78 2.05 0 2.83L4 21.41c.39.39.9.59 1.41.59.51 0 1.02-.2 1.41-.59l7.78-7.78 2.81-2.81c.8-.78.8-2.07 0-2.86zM5.41 20L4 18.59l7.72-7.72 1.47 1.35L5.41 20z\"/>\n",
              "  </svg>\n",
              "      </button>\n",
              "      \n",
              "  <style>\n",
              "    .colab-df-container {\n",
              "      display:flex;\n",
              "      flex-wrap:wrap;\n",
              "      gap: 12px;\n",
              "    }\n",
              "\n",
              "    .colab-df-convert {\n",
              "      background-color: #E8F0FE;\n",
              "      border: none;\n",
              "      border-radius: 50%;\n",
              "      cursor: pointer;\n",
              "      display: none;\n",
              "      fill: #1967D2;\n",
              "      height: 32px;\n",
              "      padding: 0 0 0 0;\n",
              "      width: 32px;\n",
              "    }\n",
              "\n",
              "    .colab-df-convert:hover {\n",
              "      background-color: #E2EBFA;\n",
              "      box-shadow: 0px 1px 2px rgba(60, 64, 67, 0.3), 0px 1px 3px 1px rgba(60, 64, 67, 0.15);\n",
              "      fill: #174EA6;\n",
              "    }\n",
              "\n",
              "    [theme=dark] .colab-df-convert {\n",
              "      background-color: #3B4455;\n",
              "      fill: #D2E3FC;\n",
              "    }\n",
              "\n",
              "    [theme=dark] .colab-df-convert:hover {\n",
              "      background-color: #434B5C;\n",
              "      box-shadow: 0px 1px 3px 1px rgba(0, 0, 0, 0.15);\n",
              "      filter: drop-shadow(0px 1px 2px rgba(0, 0, 0, 0.3));\n",
              "      fill: #FFFFFF;\n",
              "    }\n",
              "  </style>\n",
              "\n",
              "      <script>\n",
              "        const buttonEl =\n",
              "          document.querySelector('#df-f14467a8-ece6-47a9-af6a-45db20c71ca0 button.colab-df-convert');\n",
              "        buttonEl.style.display =\n",
              "          google.colab.kernel.accessAllowed ? 'block' : 'none';\n",
              "\n",
              "        async function convertToInteractive(key) {\n",
              "          const element = document.querySelector('#df-f14467a8-ece6-47a9-af6a-45db20c71ca0');\n",
              "          const dataTable =\n",
              "            await google.colab.kernel.invokeFunction('convertToInteractive',\n",
              "                                                     [key], {});\n",
              "          if (!dataTable) return;\n",
              "\n",
              "          const docLinkHtml = 'Like what you see? Visit the ' +\n",
              "            '<a target=\"_blank\" href=https://colab.research.google.com/notebooks/data_table.ipynb>data table notebook</a>'\n",
              "            + ' to learn more about interactive tables.';\n",
              "          element.innerHTML = '';\n",
              "          dataTable['output_type'] = 'display_data';\n",
              "          await google.colab.output.renderOutput(dataTable, element);\n",
              "          const docLink = document.createElement('div');\n",
              "          docLink.innerHTML = docLinkHtml;\n",
              "          element.appendChild(docLink);\n",
              "        }\n",
              "      </script>\n",
              "    </div>\n",
              "  </div>\n",
              "  "
            ],
            "text/plain": [
              "   sepal length  sepal width  petal length  petal width        class\n",
              "0           5.1          3.5           1.4          0.2  Iris-setosa\n",
              "1           4.9          3.0           1.4          0.2  Iris-setosa\n",
              "2           4.7          3.2           1.3          0.2  Iris-setosa\n",
              "3           4.6          3.1           1.5          0.2  Iris-setosa\n",
              "4           5.0          3.6           1.4          0.2  Iris-setosa"
            ]
          },
          "metadata": {},
          "execution_count": 4
        }
      ]
    },
    {
      "cell_type": "code",
      "source": [
        "# TODO: specify the details of the data layer\n",
        "data_layer = {\n",
        "    \"connection_string\": \"<paste your connection string here>\",\n",
        "    \"collection_name\": \"IRISCOLLECTION\",\n",
        "    \"database_name\": \"IRIS\"\n",
        "}"
      ],
      "metadata": {
        "id": "zzp4I3IpNxT4"
      },
      "execution_count": null,
      "outputs": []
    },
    {
      "cell_type": "code",
      "source": [
        "db = ai.write_raw_data(data_layer, df)"
      ],
      "metadata": {
        "id": "SSka4RkbNxWp"
      },
      "execution_count": null,
      "outputs": []
    },
    {
      "cell_type": "code",
      "source": [
        "# TODO: define the code needed to refine the raw data\n",
        "def data_pipeline():\n",
        "\n",
        "  pipe = [\n",
        "          {\n",
        "              '$group':{\n",
        "                  '_id': {\n",
        "                      \"sepal length\":\"$sepal length\",\n",
        "                      \"sepal width\":\"$sepal width\",\n",
        "                      \"petal length\":\"$petal length\",\n",
        "                      \"petal width\":\"$petal width\",\n",
        "                      \"class\":\"$class\"\n",
        "                      }\n",
        "                      }\n",
        "              }\n",
        "          \n",
        "  ]\n",
        "\n",
        "  return pipe\n",
        "\n",
        "df = ai.access_data_from_pipeline(db, data_pipeline())\n",
        "df.head()"
      ],
      "metadata": {
        "colab": {
          "base_uri": "https://localhost:8080/",
          "height": 206
        },
        "id": "LJtoSTGoNxa4",
        "outputId": "52d0ff48-0438-4293-93e5-3674be7ec0bf"
      },
      "execution_count": null,
      "outputs": [
        {
          "output_type": "execute_result",
          "data": {
            "text/html": [
              "\n",
              "  <div id=\"df-d1f49e4b-ac23-4099-9218-8040dfed869a\">\n",
              "    <div class=\"colab-df-container\">\n",
              "      <div>\n",
              "<style scoped>\n",
              "    .dataframe tbody tr th:only-of-type {\n",
              "        vertical-align: middle;\n",
              "    }\n",
              "\n",
              "    .dataframe tbody tr th {\n",
              "        vertical-align: top;\n",
              "    }\n",
              "\n",
              "    .dataframe thead th {\n",
              "        text-align: right;\n",
              "    }\n",
              "</style>\n",
              "<table border=\"1\" class=\"dataframe\">\n",
              "  <thead>\n",
              "    <tr style=\"text-align: right;\">\n",
              "      <th></th>\n",
              "      <th>_id.sepal length</th>\n",
              "      <th>_id.sepal width</th>\n",
              "      <th>_id.petal length</th>\n",
              "      <th>_id.petal width</th>\n",
              "      <th>_id.class</th>\n",
              "    </tr>\n",
              "  </thead>\n",
              "  <tbody>\n",
              "    <tr>\n",
              "      <th>0</th>\n",
              "      <td>5.8</td>\n",
              "      <td>2.8</td>\n",
              "      <td>5.1</td>\n",
              "      <td>2.4</td>\n",
              "      <td>Iris-virginica</td>\n",
              "    </tr>\n",
              "    <tr>\n",
              "      <th>1</th>\n",
              "      <td>7.7</td>\n",
              "      <td>3.0</td>\n",
              "      <td>6.1</td>\n",
              "      <td>2.3</td>\n",
              "      <td>Iris-virginica</td>\n",
              "    </tr>\n",
              "    <tr>\n",
              "      <th>2</th>\n",
              "      <td>6.7</td>\n",
              "      <td>3.3</td>\n",
              "      <td>5.7</td>\n",
              "      <td>2.1</td>\n",
              "      <td>Iris-virginica</td>\n",
              "    </tr>\n",
              "    <tr>\n",
              "      <th>3</th>\n",
              "      <td>6.2</td>\n",
              "      <td>2.8</td>\n",
              "      <td>4.8</td>\n",
              "      <td>1.8</td>\n",
              "      <td>Iris-virginica</td>\n",
              "    </tr>\n",
              "    <tr>\n",
              "      <th>4</th>\n",
              "      <td>4.4</td>\n",
              "      <td>3.2</td>\n",
              "      <td>1.3</td>\n",
              "      <td>0.2</td>\n",
              "      <td>Iris-setosa</td>\n",
              "    </tr>\n",
              "  </tbody>\n",
              "</table>\n",
              "</div>\n",
              "      <button class=\"colab-df-convert\" onclick=\"convertToInteractive('df-d1f49e4b-ac23-4099-9218-8040dfed869a')\"\n",
              "              title=\"Convert this dataframe to an interactive table.\"\n",
              "              style=\"display:none;\">\n",
              "        \n",
              "  <svg xmlns=\"http://www.w3.org/2000/svg\" height=\"24px\"viewBox=\"0 0 24 24\"\n",
              "       width=\"24px\">\n",
              "    <path d=\"M0 0h24v24H0V0z\" fill=\"none\"/>\n",
              "    <path d=\"M18.56 5.44l.94 2.06.94-2.06 2.06-.94-2.06-.94-.94-2.06-.94 2.06-2.06.94zm-11 1L8.5 8.5l.94-2.06 2.06-.94-2.06-.94L8.5 2.5l-.94 2.06-2.06.94zm10 10l.94 2.06.94-2.06 2.06-.94-2.06-.94-.94-2.06-.94 2.06-2.06.94z\"/><path d=\"M17.41 7.96l-1.37-1.37c-.4-.4-.92-.59-1.43-.59-.52 0-1.04.2-1.43.59L10.3 9.45l-7.72 7.72c-.78.78-.78 2.05 0 2.83L4 21.41c.39.39.9.59 1.41.59.51 0 1.02-.2 1.41-.59l7.78-7.78 2.81-2.81c.8-.78.8-2.07 0-2.86zM5.41 20L4 18.59l7.72-7.72 1.47 1.35L5.41 20z\"/>\n",
              "  </svg>\n",
              "      </button>\n",
              "      \n",
              "  <style>\n",
              "    .colab-df-container {\n",
              "      display:flex;\n",
              "      flex-wrap:wrap;\n",
              "      gap: 12px;\n",
              "    }\n",
              "\n",
              "    .colab-df-convert {\n",
              "      background-color: #E8F0FE;\n",
              "      border: none;\n",
              "      border-radius: 50%;\n",
              "      cursor: pointer;\n",
              "      display: none;\n",
              "      fill: #1967D2;\n",
              "      height: 32px;\n",
              "      padding: 0 0 0 0;\n",
              "      width: 32px;\n",
              "    }\n",
              "\n",
              "    .colab-df-convert:hover {\n",
              "      background-color: #E2EBFA;\n",
              "      box-shadow: 0px 1px 2px rgba(60, 64, 67, 0.3), 0px 1px 3px 1px rgba(60, 64, 67, 0.15);\n",
              "      fill: #174EA6;\n",
              "    }\n",
              "\n",
              "    [theme=dark] .colab-df-convert {\n",
              "      background-color: #3B4455;\n",
              "      fill: #D2E3FC;\n",
              "    }\n",
              "\n",
              "    [theme=dark] .colab-df-convert:hover {\n",
              "      background-color: #434B5C;\n",
              "      box-shadow: 0px 1px 3px 1px rgba(0, 0, 0, 0.15);\n",
              "      filter: drop-shadow(0px 1px 2px rgba(0, 0, 0, 0.3));\n",
              "      fill: #FFFFFF;\n",
              "    }\n",
              "  </style>\n",
              "\n",
              "      <script>\n",
              "        const buttonEl =\n",
              "          document.querySelector('#df-d1f49e4b-ac23-4099-9218-8040dfed869a button.colab-df-convert');\n",
              "        buttonEl.style.display =\n",
              "          google.colab.kernel.accessAllowed ? 'block' : 'none';\n",
              "\n",
              "        async function convertToInteractive(key) {\n",
              "          const element = document.querySelector('#df-d1f49e4b-ac23-4099-9218-8040dfed869a');\n",
              "          const dataTable =\n",
              "            await google.colab.kernel.invokeFunction('convertToInteractive',\n",
              "                                                     [key], {});\n",
              "          if (!dataTable) return;\n",
              "\n",
              "          const docLinkHtml = 'Like what you see? Visit the ' +\n",
              "            '<a target=\"_blank\" href=https://colab.research.google.com/notebooks/data_table.ipynb>data table notebook</a>'\n",
              "            + ' to learn more about interactive tables.';\n",
              "          element.innerHTML = '';\n",
              "          dataTable['output_type'] = 'display_data';\n",
              "          await google.colab.output.renderOutput(dataTable, element);\n",
              "          const docLink = document.createElement('div');\n",
              "          docLink.innerHTML = docLinkHtml;\n",
              "          element.appendChild(docLink);\n",
              "        }\n",
              "      </script>\n",
              "    </div>\n",
              "  </div>\n",
              "  "
            ],
            "text/plain": [
              "   _id.sepal length  _id.sepal width  ...  _id.petal width       _id.class\n",
              "0               5.8              2.8  ...              2.4  Iris-virginica\n",
              "1               7.7              3.0  ...              2.3  Iris-virginica\n",
              "2               6.7              3.3  ...              2.1  Iris-virginica\n",
              "3               6.2              2.8  ...              1.8  Iris-virginica\n",
              "4               4.4              3.2  ...              0.2     Iris-setosa\n",
              "\n",
              "[5 rows x 5 columns]"
            ]
          },
          "metadata": {},
          "execution_count": 7
        }
      ]
    },
    {
      "cell_type": "code",
      "source": [
        "# TODO: design and run an experiment\n",
        "experiment_design = {\n",
        "    #model options include ['tpot_regression()', 'tpot_classification()']\n",
        "    \"model\": ai.tpot_classification(),\n",
        "    \"labels\": df['_id.class'],\n",
        "    \"data\": df\n",
        "}\n",
        "\n",
        "#config_dict = {'sklearn.ensemble.GradientBoostingRegressor':{}}\n",
        "\n",
        "trained_model = ai.run_experiment(experiment_design, verbose = False, max_time_mins = 1, max_eval_time_mins = 0.04, config_dict = None, warm_start = False, export_pipeline = True, scoring = None)"
      ],
      "metadata": {
        "colab": {
          "base_uri": "https://localhost:8080/"
        },
        "id": "mt-ssdy8Nxhx",
        "outputId": "264aa489-faf3-4a44-96c2-703476ad0c99"
      },
      "execution_count": null,
      "outputs": [
        {
          "output_type": "stream",
          "name": "stdout",
          "text": [
            "\n",
            "Accuracy: 0.9666666666666667\n",
            "\n",
            "ROC_AUC_OVR: 1.0\n",
            "\n",
            "ROC_AUC_OVO: 1.0\n",
            "\n",
            "Recall: 0.9666666666666667\n",
            "\n",
            "Precision: 0.9696969696969697\n",
            "\n",
            "F1 Score: 0.9665831244778613\n",
            "\n"
          ]
        }
      ]
    },
    {
      "cell_type": "markdown",
      "source": [
        "# Publish code to git\n",
        "\n",
        "Create a github account and generate github personal access token ([PAT](https://docs.github.com/en/authentication/keeping-your-account-and-data-secure/creating-a-personal-access-token)) and enable ***public_repo*** access."
      ],
      "metadata": {
        "id": "RY2B3YfRVoki"
      }
    },
    {
      "cell_type": "code",
      "source": [
        "github_design = {\n",
        "    \"GitHub_Username\": \"madhubandru\",\n",
        "    \"Repository_Name\": \"iris-app-v15\",\n",
        "    \"Branch\": \"master\",\n",
        "    \"Commit_Message\": \"new app\"\n",
        "}\n",
        "ai.publish_app_api(github_design)"
      ],
      "metadata": {
        "colab": {
          "base_uri": "https://localhost:8080/"
        },
        "id": "-4Y7p4ssBMXn",
        "outputId": "0f866b1a-128e-434b-de82-3b552cf1a1a8"
      },
      "execution_count": null,
      "outputs": [
        {
          "output_type": "stream",
          "name": "stdout",
          "text": [
            "Please enter your GitHub PAT\n",
            "··········\n",
            "Github Repo iris-app-v15 Created\n",
            "list index out of range\n",
            "Data saved in prepared_data.csv file\n",
            "Target encoder saved in target_encoder.pkl file\n",
            "Generated requirements.txt file\n",
            "Generated app.py file to build the application\n",
            "Generated procfile to build the application\n",
            "Github Push Successful\n"
          ]
        }
      ]
    },
    {
      "cell_type": "markdown",
      "source": [
        "# Deploy app to Heroku\n",
        "\n",
        "**Steps:**\n",
        "  1. Signup to [Heroku](https://signup.heroku.com/login) if you are new user.\n",
        "  2. After Login, click on \"**New**\" >> \"**Create new app**\"\n",
        "  3. Provide \"**App name**\" and click on \"**create app**\"\n",
        "  4. Under \"**Deploy**\" tab \"**Deployment method**\" section select \"**Github**\" and connect to your github account.\n",
        "  5. Once connected, under same \"**Deploy**\" tab under \"**Connect to GitHub**\" section search for your \"**repo name**\" and click \"**connect**\"\n",
        "  6. Under \"**manual deploy**\" section select \"**master**\" branch and click \"**Deploy Branch**\"\n",
        "  7. Once app successfully deployed, click on \"**view**\" and preserve the **url**."
      ],
      "metadata": {
        "id": "pgxCKryEMbQG"
      }
    },
    {
      "cell_type": "markdown",
      "source": [
        "**NOTE:** Once the app is deployed and opened on web, you will see below screen. Please note it is not an error and you api link still works."
      ],
      "metadata": {
        "id": "rHALtkkPYsGR"
      }
    },
    {
      "cell_type": "markdown",
      "source": [
        "![method.PNG](data:image/png;base64,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)"
      ],
      "metadata": {
        "id": "Umx9eIbIYPF_"
      }
    },
    {
      "cell_type": "markdown",
      "source": [
        "# Test Api\n",
        "\n",
        "Use the above saved url and test for your use case."
      ],
      "metadata": {
        "id": "rvzG44OfK-1W"
      }
    },
    {
      "cell_type": "code",
      "source": [
        "import requests, json\n",
        "data = {\n",
        "    '_id.sepal length':7.4,\n",
        "    '_id.sepal width':2.8,\n",
        "    '_id.petal length':6.1,\n",
        "    '_id.petal width':1.9,\n",
        "}\n",
        "\n",
        "data = json.dumps(data)\n",
        "\n",
        "url = \"https://iris-app-v15.herokuapp.com/\"\n",
        "send_request = requests.post(url,data)\n",
        "print(send_request.json()['results']['results'])"
      ],
      "metadata": {
        "colab": {
          "base_uri": "https://localhost:8080/"
        },
        "id": "gdXAmZW5LBcG",
        "outputId": "0fe1f925-fe52-4bcd-fe02-2daa3ecf5592"
      },
      "execution_count": null,
      "outputs": [
        {
          "output_type": "stream",
          "name": "stdout",
          "text": [
            "Iris-virginica\n"
          ]
        }
      ]
    }
  ]
}